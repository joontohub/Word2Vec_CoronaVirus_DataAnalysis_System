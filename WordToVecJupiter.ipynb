{
 "metadata": {
  "language_info": {
   "codemirror_mode": {
    "name": "ipython",
    "version": 3
   },
   "file_extension": ".py",
   "mimetype": "text/x-python",
   "name": "python",
   "nbconvert_exporter": "python",
   "pygments_lexer": "ipython3",
   "version": 3
  },
  "orig_nbformat": 2
 },
 "nbformat": 4,
 "nbformat_minor": 2,
 "cells": [
  {
   "source": [
    "import requests\n",
    "from bs4 import BeautifulSoup\n",
    "from datetime import datetime\n",
    "import pandas as pd"
   ],
   "cell_type": "code",
   "metadata": {},
   "execution_count": null,
   "outputs": []
  },
  {
   "cell_type": "code",
   "execution_count": null,
   "metadata": {},
   "outputs": [],
   "source": [
    "##contagion\n",
    "movieid = 32972\n",
    "total_count = 3800  \n",
    "\n",
    "urlfit = 'https://movie.naver.com/movie/bi/mi/pointWriteFormList.nhn?code='+str(movieid)+'&type=after&isActualPointWriteExecute=false&isMileageSubscriptionAlready=false&isMileageSubscriptionReject=false'\n",
    "\n",
    "segment=[]\n",
    "\n",
    "resp = requests.get(urlfit)\n",
    "html = BeautifulSoup(resp.content, 'html.parser')\n",
    "for i in range(1, int(total_count / 10) + 1):\n",
    "    url = urlfit + '&page=' + str(i)\n",
    "    print(str(i) + ' 번째 페이지 parsing....')\n",
    "\n",
    "    resp = requests.get(url)\n",
    "    html = BeautifulSoup(resp.content, 'html.parser')\n",
    "    score_result = html.find('div', {'class': 'score_result'})\n",
    "    lis = score_result.findAll('li')\n",
    "    for li in lis:\n",
    "        try:\n",
    "          watch_movie = li.find('span', {'class':'ico_viewer'}).extract().getText()\n",
    "        except:\n",
    "          watch_movie = 0\n",
    "        nickname = li.findAll('em')[1].find('a').find('span').getText()\n",
    "        created_at = datetime.strptime(li.find('dt').findAll('em')[1].getText(), \"%Y.%m.%d %H:%M\")\n",
    "        review_text = li.find('p').find('span').getText().strip()\n",
    "        score = li.find('em').getText()\n",
    "        btn_likes = li.find('div', {'class': 'btn_area'}).findAll('strong')\n",
    "        like = btn_likes[0].getText()\n",
    "        dislike = btn_likes[1].getText()\n",
    "\n",
    "\n",
    "        fullinfo = [nickname, review_text, score, like, dislike, created_at, watch_movie]\n",
    "        segment.append(fullinfo)"
   ]
  },
  {
   "source": [
    "segment"
   ],
   "cell_type": "markdown",
   "metadata": {}
  },
  {
   "cell_type": "code",
   "execution_count": null,
   "metadata": {},
   "outputs": [],
   "source": [
    "moviere = pd.DataFrame(segment)\n",
    "moviere"
   ]
  },
  {
   "cell_type": "code",
   "execution_count": null,
   "metadata": {},
   "outputs": [],
   "source": [
    "moviere.columns = [\"nickname\",\"text\",\"score\",\"like\",\"dislike\",\"time\",\"watch_movie\"]\n",
    "moviere"
   ]
  },
  {
   "cell_type": "code",
   "execution_count": null,
   "metadata": {},
   "outputs": [],
   "source": [
    "moviere.to_csv('moviere_contasion.csv', header='true', encoding='utf-8')"
   ]
  },
  {
   "cell_type": "code",
   "execution_count": null,
   "metadata": {},
   "outputs": [],
   "source": [
    "##flu\n",
    "\n",
    "movieid = 72522\n",
    "total_count = 13000 \n",
    "\n",
    "urlfit = 'https://movie.naver.com/movie/bi/mi/pointWriteFormList.nhn?code='+str(movieid)+'&type=after&isActualPointWriteExecute=false&isMileageSubscriptionAlready=false&isMileageSubscriptionReject=false'\n",
    "\n",
    "segment=[]\n",
    "\n",
    "resp = requests.get(urlfit)\n",
    "html = BeautifulSoup(resp.content, 'html.parser')\n",
    "for i in range(1, int(total_count / 10) + 1):\n",
    "    url = urlfit + '&page=' + str(i)\n",
    "    print(str(i) + ' 번째 페이지 parsing....')\n",
    "\n",
    "    resp = requests.get(url)\n",
    "    html = BeautifulSoup(resp.content, 'html.parser')\n",
    "    score_result = html.find('div', {'class': 'score_result'})\n",
    "    lis = score_result.findAll('li')\n",
    "    for li in lis:\n",
    "        try:\n",
    "          watch_movie = li.find('span', {'class':'ico_viewer'}).extract().getText()\n",
    "        except:\n",
    "          watch_movie = 0\n",
    "        nickname = li.findAll('em')[1].find('a').find('span').getText()\n",
    "        created_at = datetime.strptime(li.find('dt').findAll('em')[1].getText(), \"%Y.%m.%d %H:%M\")\n",
    "        review_text = li.find('p').find('span').getText().strip()\n",
    "        score = li.find('em').getText()\n",
    "        btn_likes = li.find('div', {'class': 'btn_area'}).findAll('strong')\n",
    "        like = btn_likes[0].getText()\n",
    "        dislike = btn_likes[1].getText()\n",
    "\n",
    "\n",
    "        fullinfo = [nickname, review_text, score, like, dislike, created_at, watch_movie]\n",
    "        segment.append(fullinfo)"
   ]
  },
  {
   "cell_type": "code",
   "execution_count": null,
   "metadata": {},
   "outputs": [],
   "source": [
    "segment"
   ]
  },
  {
   "cell_type": "code",
   "execution_count": null,
   "metadata": {},
   "outputs": [],
   "source": [
    "moviere = pd.DataFrame(segment)\n",
    "moviere"
   ]
  },
  {
   "cell_type": "code",
   "execution_count": null,
   "metadata": {},
   "outputs": [],
   "source": [
    "moviere.columns = [\"nickname\",\"text\",\"score\",\"like\",\"dislike\",\"time\",\"watch_movie\"]\n",
    "moviere"
   ]
  },
  {
   "cell_type": "code",
   "execution_count": null,
   "metadata": {},
   "outputs": [],
   "source": [
    "moviere.to_csv('moviere_flu.csv', header='true', encoding='utf-8')"
   ]
  }
 ]
}