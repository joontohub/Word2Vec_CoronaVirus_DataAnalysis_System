{
 "metadata": {
  "language_info": {
   "codemirror_mode": {
    "name": "ipython",
    "version": 3
   },
   "file_extension": ".py",
   "mimetype": "text/x-python",
   "name": "python",
   "nbconvert_exporter": "python",
   "pygments_lexer": "ipython3",
   "version": "3.7.0-final"
  },
  "orig_nbformat": 2,
  "kernelspec": {
   "name": "Python 3.7.0 64-bit",
   "display_name": "Python 3.7.0 64-bit",
   "metadata": {
    "interpreter": {
     "hash": "6459984ad54ffa0a152feb0d874a58f042538fe4585ec3122d1aebc6efef3c27"
    }
   }
  }
 },
 "nbformat": 4,
 "nbformat_minor": 2,
 "cells": [
  {
   "source": [
    "import requests\n",
    "from bs4 import BeautifulSoup\n",
    "from datetime import datetime\n",
    "import pandas as pd"
   ],
   "cell_type": "code",
   "metadata": {},
   "execution_count": 7,
   "outputs": []
  },
  {
   "cell_type": "code",
   "execution_count": 42,
   "metadata": {},
   "outputs": [
    {
     "output_type": "stream",
     "name": "stdout",
     "text": [
      "1 번째 페이지 parsing....\n",
      "2 번째 페이지 parsing....\n",
      "3 번째 페이지 parsing....\n",
      "4 번째 페이지 parsing....\n",
      "5 번째 페이지 parsing....\n",
      "6 번째 페이지 parsing....\n",
      "7 번째 페이지 parsing....\n",
      "8 번째 페이지 parsing....\n",
      "9 번째 페이지 parsing....\n",
      "10 번째 페이지 parsing....\n",
      "11 번째 페이지 parsing....\n",
      "12 번째 페이지 parsing....\n",
      "13 번째 페이지 parsing....\n",
      "14 번째 페이지 parsing....\n",
      "15 번째 페이지 parsing....\n",
      "16 번째 페이지 parsing....\n",
      "17 번째 페이지 parsing....\n",
      "18 번째 페이지 parsing....\n",
      "19 번째 페이지 parsing....\n",
      "20 번째 페이지 parsing....\n"
     ]
    }
   ],
   "source": [
    "##contagion 2020\n",
    "#movieid = 32972\n",
    "#flu\n",
    "movieid = 72522\n",
    "total_count = 1400 \n",
    "\n",
    "# urlfit = 'https://movie.naver.com/movie/bi/mi/pointWriteFormList.nhn?code='+str(movieid)+'&type=after&isActualPointWriteExecute=false&isMileageSubscriptionAlready=false&isMileageSubscriptionReject=false'\n",
    "\n",
    "\n",
    "urlfit = 'https://movie.naver.com/movie/bi/mi/pointWriteFormList.nhn?code='+str(movieid)+'&type=after&onlyActualPointYn=N&onlySpoilerPointYn=N&order=newest'\n",
    "segment=[]\n",
    "\n",
    "resp = requests.get(urlfit)\n",
    "html = BeautifulSoup(resp.content, 'html.parser')\n",
    "for i in range(1, int(total_count / 10) + 1):\n",
    "    url = urlfit + '&page=' + str(i)\n",
    "    print(str(i) + ' 번째 페이지 parsing....')\n",
    "\n",
    "    resp = requests.get(url)\n",
    "    html = BeautifulSoup(resp.content, 'html.parser')\n",
    "    score_result = html.find('div', {'class': 'score_result'})\n",
    "    lis = score_result.findAll('li')\n",
    "    for li in lis:\n",
    "        try:\n",
    "          watch_movie = li.find('span', {'class':'ico_viewer'}).extract().getText()\n",
    "        except:\n",
    "          watch_movie = 0\n",
    "        try:\n",
    "          nickname = li.findAll('em')[1].find('a').find('span').getText()\n",
    "          created_at = datetime.strptime(li.find('dt').findAll('em')[1].getText(), \"%Y.%m.%d %H:%M\")\n",
    "          review_text = li.find('p').find('span').getText().strip()\n",
    "          score = li.find('em').getText()\n",
    "          btn_likes = li.find('div', {'class': 'btn_area'}).findAll('strong')\n",
    "          like = btn_likes[0].getText()\n",
    "          dislike = btn_likes[1].getText()\n",
    "        except:\n",
    "          continue\n",
    "        \n",
    "\n",
    "\n",
    "        fullinfo = [nickname, review_text, score, like, dislike, created_at, watch_movie]\n",
    "        segment.append(fullinfo)"
   ]
  },
  {
   "source": [
    "segment"
   ],
   "cell_type": "markdown",
   "metadata": {}
  },
  {
   "cell_type": "code",
   "execution_count": 36,
   "metadata": {},
   "outputs": [
    {
     "output_type": "execute_result",
     "data": {
      "text/plain": [
       "Empty DataFrame\n",
       "Columns: []\n",
       "Index: []"
      ],
      "text/html": "<div>\n<style scoped>\n    .dataframe tbody tr th:only-of-type {\n        vertical-align: middle;\n    }\n\n    .dataframe tbody tr th {\n        vertical-align: top;\n    }\n\n    .dataframe thead th {\n        text-align: right;\n    }\n</style>\n<table border=\"1\" class=\"dataframe\">\n  <thead>\n    <tr style=\"text-align: right;\">\n      <th></th>\n    </tr>\n  </thead>\n  <tbody>\n  </tbody>\n</table>\n</div>"
     },
     "metadata": {},
     "execution_count": 36
    }
   ],
   "source": [
    "moviere = pd.DataFrame(segment)\n",
    "moviere"
   ]
  },
  {
   "cell_type": "code",
   "execution_count": 37,
   "metadata": {},
   "outputs": [
    {
     "output_type": "error",
     "ename": "ValueError",
     "evalue": "Length mismatch: Expected axis has 0 elements, new values have 7 elements",
     "traceback": [
      "\u001b[0;31m---------------------------------------------------------------------------\u001b[0m",
      "\u001b[0;31mValueError\u001b[0m                                Traceback (most recent call last)",
      "\u001b[0;32m<ipython-input-37-df46b315ce75>\u001b[0m in \u001b[0;36m<module>\u001b[0;34m\u001b[0m\n\u001b[0;32m----> 1\u001b[0;31m \u001b[0mmoviere\u001b[0m\u001b[0;34m.\u001b[0m\u001b[0mcolumns\u001b[0m \u001b[0;34m=\u001b[0m \u001b[0;34m[\u001b[0m\u001b[0;34m\"nickname\"\u001b[0m\u001b[0;34m,\u001b[0m\u001b[0;34m\"text\"\u001b[0m\u001b[0;34m,\u001b[0m\u001b[0;34m\"score\"\u001b[0m\u001b[0;34m,\u001b[0m\u001b[0;34m\"like\"\u001b[0m\u001b[0;34m,\u001b[0m\u001b[0;34m\"dislike\"\u001b[0m\u001b[0;34m,\u001b[0m\u001b[0;34m\"time\"\u001b[0m\u001b[0;34m,\u001b[0m\u001b[0;34m\"watch_movie\"\u001b[0m\u001b[0;34m]\u001b[0m\u001b[0;34m\u001b[0m\u001b[0m\n\u001b[0m\u001b[1;32m      2\u001b[0m \u001b[0mmoviere\u001b[0m\u001b[0;34m\u001b[0m\u001b[0m\n",
      "\u001b[0;32m~/.pyenv/versions/3.7.0/lib/python3.7/site-packages/pandas/core/generic.py\u001b[0m in \u001b[0;36m__setattr__\u001b[0;34m(self, name, value)\u001b[0m\n\u001b[1;32m   5191\u001b[0m         \u001b[0;32mtry\u001b[0m\u001b[0;34m:\u001b[0m\u001b[0;34m\u001b[0m\u001b[0m\n\u001b[1;32m   5192\u001b[0m             \u001b[0mobject\u001b[0m\u001b[0;34m.\u001b[0m\u001b[0m__getattribute__\u001b[0m\u001b[0;34m(\u001b[0m\u001b[0mself\u001b[0m\u001b[0;34m,\u001b[0m \u001b[0mname\u001b[0m\u001b[0;34m)\u001b[0m\u001b[0;34m\u001b[0m\u001b[0m\n\u001b[0;32m-> 5193\u001b[0;31m             \u001b[0;32mreturn\u001b[0m \u001b[0mobject\u001b[0m\u001b[0;34m.\u001b[0m\u001b[0m__setattr__\u001b[0m\u001b[0;34m(\u001b[0m\u001b[0mself\u001b[0m\u001b[0;34m,\u001b[0m \u001b[0mname\u001b[0m\u001b[0;34m,\u001b[0m \u001b[0mvalue\u001b[0m\u001b[0;34m)\u001b[0m\u001b[0;34m\u001b[0m\u001b[0m\n\u001b[0m\u001b[1;32m   5194\u001b[0m         \u001b[0;32mexcept\u001b[0m \u001b[0mAttributeError\u001b[0m\u001b[0;34m:\u001b[0m\u001b[0;34m\u001b[0m\u001b[0m\n\u001b[1;32m   5195\u001b[0m             \u001b[0;32mpass\u001b[0m\u001b[0;34m\u001b[0m\u001b[0m\n",
      "\u001b[0;32mpandas/_libs/properties.pyx\u001b[0m in \u001b[0;36mpandas._libs.properties.AxisProperty.__set__\u001b[0;34m()\u001b[0m\n",
      "\u001b[0;32m~/.pyenv/versions/3.7.0/lib/python3.7/site-packages/pandas/core/generic.py\u001b[0m in \u001b[0;36m_set_axis\u001b[0;34m(self, axis, labels)\u001b[0m\n\u001b[1;32m    689\u001b[0m \u001b[0;34m\u001b[0m\u001b[0m\n\u001b[1;32m    690\u001b[0m     \u001b[0;32mdef\u001b[0m \u001b[0m_set_axis\u001b[0m\u001b[0;34m(\u001b[0m\u001b[0mself\u001b[0m\u001b[0;34m,\u001b[0m \u001b[0maxis\u001b[0m\u001b[0;34m,\u001b[0m \u001b[0mlabels\u001b[0m\u001b[0;34m)\u001b[0m\u001b[0;34m:\u001b[0m\u001b[0;34m\u001b[0m\u001b[0m\n\u001b[0;32m--> 691\u001b[0;31m         \u001b[0mself\u001b[0m\u001b[0;34m.\u001b[0m\u001b[0m_data\u001b[0m\u001b[0;34m.\u001b[0m\u001b[0mset_axis\u001b[0m\u001b[0;34m(\u001b[0m\u001b[0maxis\u001b[0m\u001b[0;34m,\u001b[0m \u001b[0mlabels\u001b[0m\u001b[0;34m)\u001b[0m\u001b[0;34m\u001b[0m\u001b[0m\n\u001b[0m\u001b[1;32m    692\u001b[0m         \u001b[0mself\u001b[0m\u001b[0;34m.\u001b[0m\u001b[0m_clear_item_cache\u001b[0m\u001b[0;34m(\u001b[0m\u001b[0;34m)\u001b[0m\u001b[0;34m\u001b[0m\u001b[0m\n\u001b[1;32m    693\u001b[0m \u001b[0;34m\u001b[0m\u001b[0m\n",
      "\u001b[0;32m~/.pyenv/versions/3.7.0/lib/python3.7/site-packages/pandas/core/internals/managers.py\u001b[0m in \u001b[0;36mset_axis\u001b[0;34m(self, axis, new_labels)\u001b[0m\n\u001b[1;32m    181\u001b[0m             raise ValueError(\n\u001b[1;32m    182\u001b[0m                 \u001b[0;34m\"Length mismatch: Expected axis has {old} elements, new \"\u001b[0m\u001b[0;34m\u001b[0m\u001b[0m\n\u001b[0;32m--> 183\u001b[0;31m                 \u001b[0;34m\"values have {new} elements\"\u001b[0m\u001b[0;34m.\u001b[0m\u001b[0mformat\u001b[0m\u001b[0;34m(\u001b[0m\u001b[0mold\u001b[0m\u001b[0;34m=\u001b[0m\u001b[0mold_len\u001b[0m\u001b[0;34m,\u001b[0m \u001b[0mnew\u001b[0m\u001b[0;34m=\u001b[0m\u001b[0mnew_len\u001b[0m\u001b[0;34m)\u001b[0m\u001b[0;34m\u001b[0m\u001b[0m\n\u001b[0m\u001b[1;32m    184\u001b[0m             )\n\u001b[1;32m    185\u001b[0m \u001b[0;34m\u001b[0m\u001b[0m\n",
      "\u001b[0;31mValueError\u001b[0m: Length mismatch: Expected axis has 0 elements, new values have 7 elements"
     ]
    }
   ],
   "source": [
    "moviere.columns = [\"nickname\",\"text\",\"score\",\"like\",\"dislike\",\"time\",\"watch_movie\"]\n",
    "moviere"
   ]
  },
  {
   "cell_type": "code",
   "execution_count": 19,
   "metadata": {},
   "outputs": [],
   "source": [
    "moviere.to_csv('moviere_contagion_2019_before.csv', header='true', encoding='utf-8')"
   ]
  },
  {
   "cell_type": "code",
   "execution_count": 29,
   "metadata": {},
   "outputs": [
    {
     "output_type": "stream",
     "name": "stdout",
     "text": [
      "20 번째 페이지 parsing....\nmiya****\ncuz(lily****)\n놀란(comp****)\ncom(comp****)\n하하하(ghkd****)\n김희정(khj8****)\n정재헌(07ja****)\n핑퐁천사(pha3****)\nEDLAN(noel****)\n"
     ]
    },
    {
     "output_type": "error",
     "ename": "IndexError",
     "evalue": "list index out of range",
     "traceback": [
      "\u001b[0;31m---------------------------------------------------------------------------\u001b[0m",
      "\u001b[0;31mIndexError\u001b[0m                                Traceback (most recent call last)",
      "\u001b[0;32m<ipython-input-29-dae22ffe57b9>\u001b[0m in \u001b[0;36m<module>\u001b[0;34m\u001b[0m\n\u001b[1;32m     23\u001b[0m         \u001b[0;32mexcept\u001b[0m\u001b[0;34m:\u001b[0m\u001b[0;34m\u001b[0m\u001b[0m\n\u001b[1;32m     24\u001b[0m           \u001b[0mwatch_movie\u001b[0m \u001b[0;34m=\u001b[0m \u001b[0;36m0\u001b[0m\u001b[0;34m\u001b[0m\u001b[0m\n\u001b[0;32m---> 25\u001b[0;31m         \u001b[0mnickname\u001b[0m \u001b[0;34m=\u001b[0m \u001b[0mli\u001b[0m\u001b[0;34m.\u001b[0m\u001b[0mfindAll\u001b[0m\u001b[0;34m(\u001b[0m\u001b[0;34m'em'\u001b[0m\u001b[0;34m)\u001b[0m\u001b[0;34m[\u001b[0m\u001b[0;36m1\u001b[0m\u001b[0;34m]\u001b[0m\u001b[0;34m.\u001b[0m\u001b[0mfind\u001b[0m\u001b[0;34m(\u001b[0m\u001b[0;34m'a'\u001b[0m\u001b[0;34m)\u001b[0m\u001b[0;34m.\u001b[0m\u001b[0mfind\u001b[0m\u001b[0;34m(\u001b[0m\u001b[0;34m'span'\u001b[0m\u001b[0;34m)\u001b[0m\u001b[0;34m.\u001b[0m\u001b[0mgetText\u001b[0m\u001b[0;34m(\u001b[0m\u001b[0;34m)\u001b[0m\u001b[0;34m\u001b[0m\u001b[0m\n\u001b[0m\u001b[1;32m     26\u001b[0m         \u001b[0mprint\u001b[0m\u001b[0;34m(\u001b[0m\u001b[0mnickname\u001b[0m\u001b[0;34m)\u001b[0m\u001b[0;34m\u001b[0m\u001b[0m\n\u001b[1;32m     27\u001b[0m         \u001b[0mcreated_at\u001b[0m \u001b[0;34m=\u001b[0m \u001b[0mdatetime\u001b[0m\u001b[0;34m.\u001b[0m\u001b[0mstrptime\u001b[0m\u001b[0;34m(\u001b[0m\u001b[0mli\u001b[0m\u001b[0;34m.\u001b[0m\u001b[0mfind\u001b[0m\u001b[0;34m(\u001b[0m\u001b[0;34m'dt'\u001b[0m\u001b[0;34m)\u001b[0m\u001b[0;34m.\u001b[0m\u001b[0mfindAll\u001b[0m\u001b[0;34m(\u001b[0m\u001b[0;34m'em'\u001b[0m\u001b[0;34m)\u001b[0m\u001b[0;34m[\u001b[0m\u001b[0;36m1\u001b[0m\u001b[0;34m]\u001b[0m\u001b[0;34m.\u001b[0m\u001b[0mgetText\u001b[0m\u001b[0;34m(\u001b[0m\u001b[0;34m)\u001b[0m\u001b[0;34m,\u001b[0m \u001b[0;34m\"%Y.%m.%d %H:%M\"\u001b[0m\u001b[0;34m)\u001b[0m\u001b[0;34m\u001b[0m\u001b[0m\n",
      "\u001b[0;31mIndexError\u001b[0m: list index out of range"
     ]
    }
   ],
   "source": [
    "##flu\n",
    "\n",
    "movieid = 72522\n",
    "total_count = 200\n",
    "\n",
    "urlfit = 'https://movie.naver.com/movie/bi/mi/pointWriteFormList.nhn?code='+str(movieid)+'&type=after&onlyActualPointYn=N&onlySpoilerPointYn=N&order=newest'\n",
    "\n",
    "segment=[]\n",
    "\n",
    "resp = requests.get(urlfit)\n",
    "html = BeautifulSoup(resp.content, 'html.parser')\n",
    "for i in range(20, int(total_count / 10) + 1):\n",
    "    url = urlfit + '&page=' + str(i)\n",
    "    print(str(i) + ' 번째 페이지 parsing....')\n",
    "\n",
    "    resp = requests.get(url)\n",
    "    html = BeautifulSoup(resp.content, 'html.parser')\n",
    "    score_result = html.find('div', {'class': 'score_result'})\n",
    "    lis = score_result.findAll('li')\n",
    "    for li in lis:\n",
    "        try:\n",
    "          watch_movie = li.find('span', {'class':'ico_viewer'}).extract().getText()\n",
    "        except:\n",
    "          watch_movie = 0\n",
    "        nickname = li.findAll('em')[1].find('a').find('span').getText()\n",
    "        print(nickname)\n",
    "        created_at = datetime.strptime(li.find('dt').findAll('em')[1].getText(), \"%Y.%m.%d %H:%M\")\n",
    "        review_text = li.find('p').find('span').getText().strip()\n",
    "        score = li.find('em').getText()\n",
    "        btn_likes = li.find('div', {'class': 'btn_area'}).findAll('strong')\n",
    "        like = btn_likes[0].getText()\n",
    "        dislike = btn_likes[1].getText()\n",
    "\n",
    "\n",
    "        fullinfo = [nickname, review_text, score, like, dislike, created_at, watch_movie]\n",
    "        segment.append(fullinfo)"
   ]
  },
  {
   "cell_type": "code",
   "execution_count": 24,
   "metadata": {},
   "outputs": [
    {
     "output_type": "execute_result",
     "data": {
      "text/plain": [
       "                    0                                                  1   2  \\\n",
       "0       지바바(kkb0****)                                                      1   \n",
       "1       토토리(dnfl****)  초중반 주연진상짓때매 엄청 답답했음 남주도 이해안가고 심심할때 보면 나쁘지 않을지도...   7   \n",
       "2      열혈인생(ds19****)                            한국 영화사에 남을 수작이라고 생각합니다.  10   \n",
       "3       이재성(xant****)  내 인생 가장 쓰레기 영화. 앞으로도 이런 OOO기영화를 볼 일은 없을거라고 장담할...   1   \n",
       "4   DreamTG(jecx****)                   영화배우가 영화의 전부가 아니라는걸 여지없이 보여준 영화.   1   \n",
       "..                ...                                                ...  ..   \n",
       "95    버터플라이(wjsw****)  연출 부분에서 백점, 천점, 만점 드립니다 이 시국에서 이 영화는 재조명되야 될 영...  10   \n",
       "96  brainer(brai****)  말도 안 되는 설정, 말도 안 되는 CG, 말도 안 되는 전개, 말도 안 되는 스토...   2   \n",
       "97     렛잇프리(hero****)  코비드19 예상을 한겁니까? 굿!! 영화 내용은 아이가 징징딩 하는것밖에 기억안나네...   4   \n",
       "98           gkqz****       지금 코로나 사태 재평가 과 시급한 영화 20년도 되서 지금 보니 더 와 닿는다  10   \n",
       "99      호오대(haom****)  그래도 중간까지는 몰입해서 잘봤는데 뒤로 갈수록 이야기가 좀 억지스럽네요 전시작전권...   2   \n",
       "\n",
       "    3  4                   5  6  \n",
       "0   0  0 2020-11-22 00:44:00  0  \n",
       "1   0  0 2020-11-15 09:28:00  0  \n",
       "2   2  0 2020-11-10 15:55:00  0  \n",
       "3   0  2 2020-11-08 22:45:00  0  \n",
       "4   0  1 2020-11-07 11:06:00  0  \n",
       ".. .. ..                 ... ..  \n",
       "95  5  4 2020-08-20 15:57:00  0  \n",
       "96  5  5 2020-08-20 01:10:00  0  \n",
       "97  3  1 2020-08-19 21:01:00  0  \n",
       "98  1  2 2020-08-19 05:23:00  0  \n",
       "99  2  2 2020-08-18 08:25:00  0  \n",
       "\n",
       "[100 rows x 7 columns]"
      ],
      "text/html": "<div>\n<style scoped>\n    .dataframe tbody tr th:only-of-type {\n        vertical-align: middle;\n    }\n\n    .dataframe tbody tr th {\n        vertical-align: top;\n    }\n\n    .dataframe thead th {\n        text-align: right;\n    }\n</style>\n<table border=\"1\" class=\"dataframe\">\n  <thead>\n    <tr style=\"text-align: right;\">\n      <th></th>\n      <th>0</th>\n      <th>1</th>\n      <th>2</th>\n      <th>3</th>\n      <th>4</th>\n      <th>5</th>\n      <th>6</th>\n    </tr>\n  </thead>\n  <tbody>\n    <tr>\n      <th>0</th>\n      <td>지바바(kkb0****)</td>\n      <td></td>\n      <td>1</td>\n      <td>0</td>\n      <td>0</td>\n      <td>2020-11-22 00:44:00</td>\n      <td>0</td>\n    </tr>\n    <tr>\n      <th>1</th>\n      <td>토토리(dnfl****)</td>\n      <td>초중반 주연진상짓때매 엄청 답답했음 남주도 이해안가고 심심할때 보면 나쁘지 않을지도...</td>\n      <td>7</td>\n      <td>0</td>\n      <td>0</td>\n      <td>2020-11-15 09:28:00</td>\n      <td>0</td>\n    </tr>\n    <tr>\n      <th>2</th>\n      <td>열혈인생(ds19****)</td>\n      <td>한국 영화사에 남을 수작이라고 생각합니다.</td>\n      <td>10</td>\n      <td>2</td>\n      <td>0</td>\n      <td>2020-11-10 15:55:00</td>\n      <td>0</td>\n    </tr>\n    <tr>\n      <th>3</th>\n      <td>이재성(xant****)</td>\n      <td>내 인생 가장 쓰레기 영화. 앞으로도 이런 OOO기영화를 볼 일은 없을거라고 장담할...</td>\n      <td>1</td>\n      <td>0</td>\n      <td>2</td>\n      <td>2020-11-08 22:45:00</td>\n      <td>0</td>\n    </tr>\n    <tr>\n      <th>4</th>\n      <td>DreamTG(jecx****)</td>\n      <td>영화배우가 영화의 전부가 아니라는걸 여지없이 보여준 영화.</td>\n      <td>1</td>\n      <td>0</td>\n      <td>1</td>\n      <td>2020-11-07 11:06:00</td>\n      <td>0</td>\n    </tr>\n    <tr>\n      <th>5</th>\n      <td>김은수(keso****)</td>\n      <td>억지로 짜내는 감동. 말도안되는 스토리. 그냥 쓰레기영화</td>\n      <td>1</td>\n      <td>0</td>\n      <td>1</td>\n      <td>2020-11-07 11:03:00</td>\n      <td>0</td>\n    </tr>\n    <tr>\n      <th>6</th>\n      <td>황상하(nina****)</td>\n      <td>한국 재난영화 클리셰로 떡칠된걸로 모자라 개연성이라곤 1도 없는 영화 ㅎ  감상포인...</td>\n      <td>1</td>\n      <td>1</td>\n      <td>2</td>\n      <td>2020-11-02 17:57:00</td>\n      <td>0</td>\n    </tr>\n    <tr>\n      <th>7</th>\n      <td>skyh****</td>\n      <td>그럭저럭 볼만한 영화(개인적으로)</td>\n      <td>4</td>\n      <td>0</td>\n      <td>0</td>\n      <td>2020-10-30 16:57:00</td>\n      <td>0</td>\n    </tr>\n    <tr>\n      <th>8</th>\n      <td>샌루(akzm****)</td>\n      <td>진짜 OO이 못만들었다</td>\n      <td>1</td>\n      <td>0</td>\n      <td>3</td>\n      <td>2020-10-21 11:51:00</td>\n      <td>0</td>\n    </tr>\n    <tr>\n      <th>9</th>\n      <td>caby****</td>\n      <td>좀 억지스러운부분은 인정ㅡㅡ그러나 이영화는 2020년 코로나를 예측했나ㅡ소름끼친다ㅡ...</td>\n      <td>10</td>\n      <td>2</td>\n      <td>3</td>\n      <td>2020-10-08 02:57:00</td>\n      <td>0</td>\n    </tr>\n    <tr>\n      <th>10</th>\n      <td>식객(seon****)</td>\n      <td>이건 ㄹㅇ 전라도 좌좀들이 만든영화 100프로 장담한다ㅋㅋㅋ.     군인들은 살인...</td>\n      <td>1</td>\n      <td>2</td>\n      <td>2</td>\n      <td>2020-10-08 02:49:00</td>\n      <td>0</td>\n    </tr>\n    <tr>\n      <th>11</th>\n      <td>kim wolly(skys****)</td>\n      <td>진짜 애새끼만 찾다가 끝나네</td>\n      <td>1</td>\n      <td>1</td>\n      <td>1</td>\n      <td>2020-10-07 19:40:00</td>\n      <td>0</td>\n    </tr>\n    <tr>\n      <th>12</th>\n      <td>도블링(tlsd****)</td>\n      <td>옛날에 제목이 감기라 안땡겨서 안봄넷플릭스에 올라와 있길래 시간 떼우기 용으로 보자...</td>\n      <td>8</td>\n      <td>5</td>\n      <td>0</td>\n      <td>2020-10-06 00:53:00</td>\n      <td>0</td>\n    </tr>\n    <tr>\n      <th>13</th>\n      <td>퓨핀채니(ppch****)</td>\n      <td>코로나사태 터지고 보게된영화 근데 애새끼때문에 답답해서 OO뻔한영화 개발암 ㅎ</td>\n      <td>1</td>\n      <td>2</td>\n      <td>1</td>\n      <td>2020-10-03 06:51:00</td>\n      <td>0</td>\n    </tr>\n    <tr>\n      <th>14</th>\n      <td>시우(assi****)</td>\n      <td>보는 내내 미르 찢어죽이고 싶은 생각만 듬 절대보지마라 하루종일 미르 미르 미르 미...</td>\n      <td>1</td>\n      <td>2</td>\n      <td>4</td>\n      <td>2020-10-02 15:57:00</td>\n      <td>0</td>\n    </tr>\n    <tr>\n      <th>15</th>\n      <td>0000(anne****)</td>\n      <td></td>\n      <td>10</td>\n      <td>1</td>\n      <td>0</td>\n      <td>2020-10-01 09:50:00</td>\n      <td>0</td>\n    </tr>\n    <tr>\n      <th>16</th>\n      <td>유솔아(juke****)</td>\n      <td>성지순례 왔다갑니다 돈 마니 벌게 해주세요</td>\n      <td>10</td>\n      <td>1</td>\n      <td>1</td>\n      <td>2020-09-29 20:31:00</td>\n      <td>0</td>\n    </tr>\n    <tr>\n      <th>17</th>\n      <td>soph****</td>\n      <td>수애가 초반에 재수없데 나오넼ㅋㅋㅋㅋ 나같으면 안도와줌</td>\n      <td>6</td>\n      <td>0</td>\n      <td>2</td>\n      <td>2020-09-28 12:28:00</td>\n      <td>0</td>\n    </tr>\n    <tr>\n      <th>18</th>\n      <td>종빡이(wh47****)</td>\n      <td>재밌게봤는데 와그라녀;;</td>\n      <td>10</td>\n      <td>1</td>\n      <td>2</td>\n      <td>2020-09-27 21:26:00</td>\n      <td>0</td>\n    </tr>\n    <tr>\n      <th>19</th>\n      <td>이준민(juns****)</td>\n      <td>처음에는 길가다가 쓰러지고 난리도 아니었지만 나중에 막바지엔 그렇게 우글우글 모여있...</td>\n      <td>4</td>\n      <td>1</td>\n      <td>0</td>\n      <td>2020-09-26 21:32:00</td>\n      <td>0</td>\n    </tr>\n    <tr>\n      <th>20</th>\n      <td>lllllllllllllllllll(kimh****)</td>\n      <td>스토리는 무난하고 신파는 생각보다 별로 없고 핵심 요소는 나름 잘 살렸다.</td>\n      <td>7</td>\n      <td>1</td>\n      <td>3</td>\n      <td>2020-09-21 18:45:00</td>\n      <td>0</td>\n    </tr>\n    <tr>\n      <th>21</th>\n      <td>디케이(kjsd****)</td>\n      <td></td>\n      <td>1</td>\n      <td>1</td>\n      <td>2</td>\n      <td>2020-09-21 00:48:00</td>\n      <td>0</td>\n    </tr>\n    <tr>\n      <th>22</th>\n      <td>정선영(sun0****)</td>\n      <td>재평가 다시 해야 되는 영화  ....</td>\n      <td>10</td>\n      <td>7</td>\n      <td>3</td>\n      <td>2020-09-19 10:40:00</td>\n      <td>0</td>\n    </tr>\n    <tr>\n      <th>23</th>\n      <td>Bellerophon(toug****)</td>\n      <td>내가 평식이 진짜 싫어하는데 역대 두번째 평식이랑 마음이 맞는 영화네. 우리나라 억...</td>\n      <td>5</td>\n      <td>0</td>\n      <td>1</td>\n      <td>2020-09-18 04:22:00</td>\n      <td>0</td>\n    </tr>\n    <tr>\n      <th>24</th>\n      <td>키네리(kine****)</td>\n      <td>초반은 참 좋았는데 용두사미 짜증으로 치닫는 영화. 이렇게밖에 못만드나 어후.</td>\n      <td>4</td>\n      <td>0</td>\n      <td>1</td>\n      <td>2020-09-16 22:25:00</td>\n      <td>0</td>\n    </tr>\n    <tr>\n      <th>25</th>\n      <td>베를린천사의 시(jooj****)</td>\n      <td>아역 여자애가 다 망침연기 존나 못함아역 쓰는 영화 보면 애들이 다 연기톤이고 억지...</td>\n      <td>1</td>\n      <td>3</td>\n      <td>4</td>\n      <td>2020-09-16 22:03:00</td>\n      <td>0</td>\n    </tr>\n    <tr>\n      <th>26</th>\n      <td>루시퍼(pear****)</td>\n      <td>내용이 너무 극단적인 부분이 있고, 과장된 부분도 있어서 조금 거부감이 있습니다. ...</td>\n      <td>6</td>\n      <td>0</td>\n      <td>0</td>\n      <td>2020-09-16 18:43:00</td>\n      <td>0</td>\n    </tr>\n    <tr>\n      <th>27</th>\n      <td>이민주(dlal****)</td>\n      <td>엥 갑자기 평점 낮아진 거 봐</td>\n      <td>10</td>\n      <td>1</td>\n      <td>1</td>\n      <td>2020-09-15 19:53:00</td>\n      <td>0</td>\n    </tr>\n    <tr>\n      <th>28</th>\n      <td>h952****</td>\n      <td>진짜 재밌네.... 대박이다</td>\n      <td>10</td>\n      <td>1</td>\n      <td>1</td>\n      <td>2020-09-15 18:21:00</td>\n      <td>0</td>\n    </tr>\n    <tr>\n      <th>29</th>\n      <td>Enouta(qkrt****)</td>\n      <td>스포일러가 포함된 감상평입니다. 감상평 보기</td>\n      <td>1</td>\n      <td>1</td>\n      <td>1</td>\n      <td>2020-09-15 00:11:00</td>\n      <td>0</td>\n    </tr>\n    <tr>\n      <th>...</th>\n      <td>...</td>\n      <td>...</td>\n      <td>...</td>\n      <td>...</td>\n      <td>...</td>\n      <td>...</td>\n      <td>...</td>\n    </tr>\n    <tr>\n      <th>70</th>\n      <td>illii(wjdw****)</td>\n      <td>개발암인데 개꿀잼이다</td>\n      <td>8</td>\n      <td>3</td>\n      <td>0</td>\n      <td>2020-08-24 21:05:00</td>\n      <td>0</td>\n    </tr>\n    <tr>\n      <th>71</th>\n      <td>감자(jung****)</td>\n      <td>\"코로나 19\"로 인해 재평가 되는 영화.</td>\n      <td>7</td>\n      <td>6</td>\n      <td>0</td>\n      <td>2020-08-23 15:28:00</td>\n      <td>0</td>\n    </tr>\n    <tr>\n      <th>72</th>\n      <td>장우창(jwc6****)</td>\n      <td></td>\n      <td>6</td>\n      <td>0</td>\n      <td>0</td>\n      <td>2020-08-23 11:15:00</td>\n      <td>0</td>\n    </tr>\n    <tr>\n      <th>73</th>\n      <td>vnst****</td>\n      <td></td>\n      <td>10</td>\n      <td>0</td>\n      <td>1</td>\n      <td>2020-08-23 01:07:00</td>\n      <td>0</td>\n    </tr>\n    <tr>\n      <th>74</th>\n      <td>codi****</td>\n      <td>코로나 바이러스로 인한 판데믹 상황에서 꼭 다시 봐야할 영화라고 생각합니다. 영화의...</td>\n      <td>2</td>\n      <td>2</td>\n      <td>2</td>\n      <td>2020-08-22 17:42:00</td>\n      <td>0</td>\n    </tr>\n    <tr>\n      <th>75</th>\n      <td>Raon(eer3****)</td>\n      <td>영화가 너무 말이 안 되게 만들어놨다... 확진자 피 뽑아서 몇분만에 백신, 치료제...</td>\n      <td>1</td>\n      <td>9</td>\n      <td>8</td>\n      <td>2020-08-22 17:10:00</td>\n      <td>0</td>\n    </tr>\n    <tr>\n      <th>76</th>\n      <td>루팡(jhjj****)</td>\n      <td>설정은 좋으나 과잉진압과 현실성 낮은 구성이 아쉬움</td>\n      <td>6</td>\n      <td>3</td>\n      <td>2</td>\n      <td>2020-08-22 16:47:00</td>\n      <td>0</td>\n    </tr>\n    <tr>\n      <th>77</th>\n      <td>tjdg****</td>\n      <td>스포일러가 포함된 감상평입니다. 감상평 보기</td>\n      <td>4</td>\n      <td>1</td>\n      <td>0</td>\n      <td>2020-08-22 07:17:00</td>\n      <td>0</td>\n    </tr>\n    <tr>\n      <th>78</th>\n      <td>007(shwo****)</td>\n      <td>아동센터 2년 버텼지만 이 영화2시간은 버티지 못했다...</td>\n      <td>1</td>\n      <td>5</td>\n      <td>0</td>\n      <td>2020-08-22 01:53:00</td>\n      <td>0</td>\n    </tr>\n    <tr>\n      <th>79</th>\n      <td>woo(woo_****)</td>\n      <td>8월21일 ocn으로 봤음현재 코로나19 예견한듯 도입부 스토리는좋았으나, 영화 중...</td>\n      <td>2</td>\n      <td>2</td>\n      <td>0</td>\n      <td>2020-08-21 23:19:00</td>\n      <td>0</td>\n    </tr>\n    <tr>\n      <th>80</th>\n      <td>그라비티(poo1****)</td>\n      <td>애색기 목졸라 죽이고 싶었음</td>\n      <td>1</td>\n      <td>4</td>\n      <td>5</td>\n      <td>2020-08-21 23:10:00</td>\n      <td>0</td>\n    </tr>\n    <tr>\n      <th>81</th>\n      <td>Kyung(moon****)</td>\n      <td>연기나 스토리 진행 다 괜찮았다. 근데 인간적으로 스토리 짤 때 정부 역할에 대해서...</td>\n      <td>2</td>\n      <td>2</td>\n      <td>0</td>\n      <td>2020-08-21 22:56:00</td>\n      <td>0</td>\n    </tr>\n    <tr>\n      <th>82</th>\n      <td>정권(jkj5****)</td>\n      <td>말도 안되는  내용 투성이라  몰입이 좀 떨어짐</td>\n      <td>4</td>\n      <td>2</td>\n      <td>1</td>\n      <td>2020-08-21 22:54:00</td>\n      <td>0</td>\n    </tr>\n    <tr>\n      <th>83</th>\n      <td>외계인(et07****)</td>\n      <td>말도 안되는 개빡치는 영화</td>\n      <td>1</td>\n      <td>2</td>\n      <td>1</td>\n      <td>2020-08-21 22:51:00</td>\n      <td>0</td>\n    </tr>\n    <tr>\n      <th>84</th>\n      <td>hero(jwsh****)</td>\n      <td>그냥 재미없는 반미영화</td>\n      <td>1</td>\n      <td>4</td>\n      <td>2</td>\n      <td>2020-08-21 22:50:00</td>\n      <td>0</td>\n    </tr>\n    <tr>\n      <th>85</th>\n      <td>Blessing(haha****)</td>\n      <td>하 진짜ㅋㅋㅋㅋ 코믹영화인줄~ 계속 헛웃음 나올 정도로 개연성 떨어짐. 어떻게 하면...</td>\n      <td>1</td>\n      <td>3</td>\n      <td>2</td>\n      <td>2020-08-21 22:47:00</td>\n      <td>0</td>\n    </tr>\n    <tr>\n      <th>86</th>\n      <td>phjphj0125(zioz****)</td>\n      <td>스포일러가 포함된 감상평입니다. 감상평 보기</td>\n      <td>2</td>\n      <td>4</td>\n      <td>0</td>\n      <td>2020-08-21 22:36:00</td>\n      <td>0</td>\n    </tr>\n    <tr>\n      <th>87</th>\n      <td>서방마누라(aria****)</td>\n      <td>스포일러가 포함된 감상평입니다. 감상평 보기</td>\n      <td>8</td>\n      <td>3</td>\n      <td>0</td>\n      <td>2020-08-21 22:23:00</td>\n      <td>0</td>\n    </tr>\n    <tr>\n      <th>88</th>\n      <td>민윤(ysl6****)</td>\n      <td></td>\n      <td>10</td>\n      <td>0</td>\n      <td>2</td>\n      <td>2020-08-21 22:10:00</td>\n      <td>0</td>\n    </tr>\n    <tr>\n      <th>89</th>\n      <td>anai****</td>\n      <td>여주인공이 징징대는 컨셉만 아니었다면 망하지 않았을듯.. 안타깝다 ㅠ 애기 연기랑 ...</td>\n      <td>10</td>\n      <td>4</td>\n      <td>1</td>\n      <td>2020-08-21 22:02:00</td>\n      <td>0</td>\n    </tr>\n    <tr>\n      <th>90</th>\n      <td>빛희재(ty31****)</td>\n      <td>지금 코로나와 상황이랑 똑같은거 같은데 이 영화보고서 우리 다 같이 코로나 이깁시다.</td>\n      <td>10</td>\n      <td>4</td>\n      <td>1</td>\n      <td>2020-08-21 22:01:00</td>\n      <td>0</td>\n    </tr>\n    <tr>\n      <th>91</th>\n      <td>huck(huck****)</td>\n      <td>코로나때문에 재평가 받을뿐...연기 연출 설정 모두 최악이었다!</td>\n      <td>1</td>\n      <td>5</td>\n      <td>0</td>\n      <td>2020-08-21 21:32:00</td>\n      <td>0</td>\n    </tr>\n    <tr>\n      <th>92</th>\n      <td>라루나(secr****)</td>\n      <td>감기는 코로나를 미리 예견한 영화였다 덜덜ㅜ</td>\n      <td>10</td>\n      <td>4</td>\n      <td>1</td>\n      <td>2020-08-21 21:22:00</td>\n      <td>0</td>\n    </tr>\n    <tr>\n      <th>93</th>\n      <td>구구(02sh****)</td>\n      <td>스포일러가 포함된 감상평입니다. 감상평 보기</td>\n      <td>7</td>\n      <td>5</td>\n      <td>0</td>\n      <td>2020-08-21 21:19:00</td>\n      <td>0</td>\n    </tr>\n    <tr>\n      <th>94</th>\n      <td>김정은(junk****)</td>\n      <td>야 백수들아 이정도면 볼만한 영화지 뭐 그리 따지는게 많아 영화만들 돈도 없는주제에...</td>\n      <td>8</td>\n      <td>6</td>\n      <td>4</td>\n      <td>2020-08-20 19:30:00</td>\n      <td>0</td>\n    </tr>\n    <tr>\n      <th>95</th>\n      <td>버터플라이(wjsw****)</td>\n      <td>연출 부분에서 백점, 천점, 만점 드립니다 이 시국에서 이 영화는 재조명되야 될 영...</td>\n      <td>10</td>\n      <td>5</td>\n      <td>4</td>\n      <td>2020-08-20 15:57:00</td>\n      <td>0</td>\n    </tr>\n    <tr>\n      <th>96</th>\n      <td>brainer(brai****)</td>\n      <td>말도 안 되는 설정, 말도 안 되는 CG, 말도 안 되는 전개, 말도 안 되는 스토...</td>\n      <td>2</td>\n      <td>5</td>\n      <td>5</td>\n      <td>2020-08-20 01:10:00</td>\n      <td>0</td>\n    </tr>\n    <tr>\n      <th>97</th>\n      <td>렛잇프리(hero****)</td>\n      <td>코비드19 예상을 한겁니까? 굿!! 영화 내용은 아이가 징징딩 하는것밖에 기억안나네...</td>\n      <td>4</td>\n      <td>3</td>\n      <td>1</td>\n      <td>2020-08-19 21:01:00</td>\n      <td>0</td>\n    </tr>\n    <tr>\n      <th>98</th>\n      <td>gkqz****</td>\n      <td>지금 코로나 사태 재평가 과 시급한 영화 20년도 되서 지금 보니 더 와 닿는다</td>\n      <td>10</td>\n      <td>1</td>\n      <td>2</td>\n      <td>2020-08-19 05:23:00</td>\n      <td>0</td>\n    </tr>\n    <tr>\n      <th>99</th>\n      <td>호오대(haom****)</td>\n      <td>그래도 중간까지는 몰입해서 잘봤는데 뒤로 갈수록 이야기가 좀 억지스럽네요 전시작전권...</td>\n      <td>2</td>\n      <td>2</td>\n      <td>2</td>\n      <td>2020-08-18 08:25:00</td>\n      <td>0</td>\n    </tr>\n  </tbody>\n</table>\n<p>100 rows × 7 columns</p>\n</div>"
     },
     "metadata": {},
     "execution_count": 24
    }
   ],
   "source": [
    "moviere = pd.DataFrame(segment)\n",
    "moviere"
   ]
  },
  {
   "cell_type": "code",
   "execution_count": 25,
   "metadata": {},
   "outputs": [
    {
     "output_type": "execute_result",
     "data": {
      "text/plain": [
       "             nickname                                               text  \\\n",
       "0       지바바(kkb0****)                                                      \n",
       "1       토토리(dnfl****)  초중반 주연진상짓때매 엄청 답답했음 남주도 이해안가고 심심할때 보면 나쁘지 않을지도...   \n",
       "2      열혈인생(ds19****)                            한국 영화사에 남을 수작이라고 생각합니다.   \n",
       "3       이재성(xant****)  내 인생 가장 쓰레기 영화. 앞으로도 이런 OOO기영화를 볼 일은 없을거라고 장담할...   \n",
       "4   DreamTG(jecx****)                   영화배우가 영화의 전부가 아니라는걸 여지없이 보여준 영화.   \n",
       "..                ...                                                ...   \n",
       "95    버터플라이(wjsw****)  연출 부분에서 백점, 천점, 만점 드립니다 이 시국에서 이 영화는 재조명되야 될 영...   \n",
       "96  brainer(brai****)  말도 안 되는 설정, 말도 안 되는 CG, 말도 안 되는 전개, 말도 안 되는 스토...   \n",
       "97     렛잇프리(hero****)  코비드19 예상을 한겁니까? 굿!! 영화 내용은 아이가 징징딩 하는것밖에 기억안나네...   \n",
       "98           gkqz****       지금 코로나 사태 재평가 과 시급한 영화 20년도 되서 지금 보니 더 와 닿는다   \n",
       "99      호오대(haom****)  그래도 중간까지는 몰입해서 잘봤는데 뒤로 갈수록 이야기가 좀 억지스럽네요 전시작전권...   \n",
       "\n",
       "   score like dislike                time  watch_movie  \n",
       "0      1    0       0 2020-11-22 00:44:00            0  \n",
       "1      7    0       0 2020-11-15 09:28:00            0  \n",
       "2     10    2       0 2020-11-10 15:55:00            0  \n",
       "3      1    0       2 2020-11-08 22:45:00            0  \n",
       "4      1    0       1 2020-11-07 11:06:00            0  \n",
       "..   ...  ...     ...                 ...          ...  \n",
       "95    10    5       4 2020-08-20 15:57:00            0  \n",
       "96     2    5       5 2020-08-20 01:10:00            0  \n",
       "97     4    3       1 2020-08-19 21:01:00            0  \n",
       "98    10    1       2 2020-08-19 05:23:00            0  \n",
       "99     2    2       2 2020-08-18 08:25:00            0  \n",
       "\n",
       "[100 rows x 7 columns]"
      ],
      "text/html": "<div>\n<style scoped>\n    .dataframe tbody tr th:only-of-type {\n        vertical-align: middle;\n    }\n\n    .dataframe tbody tr th {\n        vertical-align: top;\n    }\n\n    .dataframe thead th {\n        text-align: right;\n    }\n</style>\n<table border=\"1\" class=\"dataframe\">\n  <thead>\n    <tr style=\"text-align: right;\">\n      <th></th>\n      <th>nickname</th>\n      <th>text</th>\n      <th>score</th>\n      <th>like</th>\n      <th>dislike</th>\n      <th>time</th>\n      <th>watch_movie</th>\n    </tr>\n  </thead>\n  <tbody>\n    <tr>\n      <th>0</th>\n      <td>지바바(kkb0****)</td>\n      <td></td>\n      <td>1</td>\n      <td>0</td>\n      <td>0</td>\n      <td>2020-11-22 00:44:00</td>\n      <td>0</td>\n    </tr>\n    <tr>\n      <th>1</th>\n      <td>토토리(dnfl****)</td>\n      <td>초중반 주연진상짓때매 엄청 답답했음 남주도 이해안가고 심심할때 보면 나쁘지 않을지도...</td>\n      <td>7</td>\n      <td>0</td>\n      <td>0</td>\n      <td>2020-11-15 09:28:00</td>\n      <td>0</td>\n    </tr>\n    <tr>\n      <th>2</th>\n      <td>열혈인생(ds19****)</td>\n      <td>한국 영화사에 남을 수작이라고 생각합니다.</td>\n      <td>10</td>\n      <td>2</td>\n      <td>0</td>\n      <td>2020-11-10 15:55:00</td>\n      <td>0</td>\n    </tr>\n    <tr>\n      <th>3</th>\n      <td>이재성(xant****)</td>\n      <td>내 인생 가장 쓰레기 영화. 앞으로도 이런 OOO기영화를 볼 일은 없을거라고 장담할...</td>\n      <td>1</td>\n      <td>0</td>\n      <td>2</td>\n      <td>2020-11-08 22:45:00</td>\n      <td>0</td>\n    </tr>\n    <tr>\n      <th>4</th>\n      <td>DreamTG(jecx****)</td>\n      <td>영화배우가 영화의 전부가 아니라는걸 여지없이 보여준 영화.</td>\n      <td>1</td>\n      <td>0</td>\n      <td>1</td>\n      <td>2020-11-07 11:06:00</td>\n      <td>0</td>\n    </tr>\n    <tr>\n      <th>5</th>\n      <td>김은수(keso****)</td>\n      <td>억지로 짜내는 감동. 말도안되는 스토리. 그냥 쓰레기영화</td>\n      <td>1</td>\n      <td>0</td>\n      <td>1</td>\n      <td>2020-11-07 11:03:00</td>\n      <td>0</td>\n    </tr>\n    <tr>\n      <th>6</th>\n      <td>황상하(nina****)</td>\n      <td>한국 재난영화 클리셰로 떡칠된걸로 모자라 개연성이라곤 1도 없는 영화 ㅎ  감상포인...</td>\n      <td>1</td>\n      <td>1</td>\n      <td>2</td>\n      <td>2020-11-02 17:57:00</td>\n      <td>0</td>\n    </tr>\n    <tr>\n      <th>7</th>\n      <td>skyh****</td>\n      <td>그럭저럭 볼만한 영화(개인적으로)</td>\n      <td>4</td>\n      <td>0</td>\n      <td>0</td>\n      <td>2020-10-30 16:57:00</td>\n      <td>0</td>\n    </tr>\n    <tr>\n      <th>8</th>\n      <td>샌루(akzm****)</td>\n      <td>진짜 OO이 못만들었다</td>\n      <td>1</td>\n      <td>0</td>\n      <td>3</td>\n      <td>2020-10-21 11:51:00</td>\n      <td>0</td>\n    </tr>\n    <tr>\n      <th>9</th>\n      <td>caby****</td>\n      <td>좀 억지스러운부분은 인정ㅡㅡ그러나 이영화는 2020년 코로나를 예측했나ㅡ소름끼친다ㅡ...</td>\n      <td>10</td>\n      <td>2</td>\n      <td>3</td>\n      <td>2020-10-08 02:57:00</td>\n      <td>0</td>\n    </tr>\n    <tr>\n      <th>10</th>\n      <td>식객(seon****)</td>\n      <td>이건 ㄹㅇ 전라도 좌좀들이 만든영화 100프로 장담한다ㅋㅋㅋ.     군인들은 살인...</td>\n      <td>1</td>\n      <td>2</td>\n      <td>2</td>\n      <td>2020-10-08 02:49:00</td>\n      <td>0</td>\n    </tr>\n    <tr>\n      <th>11</th>\n      <td>kim wolly(skys****)</td>\n      <td>진짜 애새끼만 찾다가 끝나네</td>\n      <td>1</td>\n      <td>1</td>\n      <td>1</td>\n      <td>2020-10-07 19:40:00</td>\n      <td>0</td>\n    </tr>\n    <tr>\n      <th>12</th>\n      <td>도블링(tlsd****)</td>\n      <td>옛날에 제목이 감기라 안땡겨서 안봄넷플릭스에 올라와 있길래 시간 떼우기 용으로 보자...</td>\n      <td>8</td>\n      <td>5</td>\n      <td>0</td>\n      <td>2020-10-06 00:53:00</td>\n      <td>0</td>\n    </tr>\n    <tr>\n      <th>13</th>\n      <td>퓨핀채니(ppch****)</td>\n      <td>코로나사태 터지고 보게된영화 근데 애새끼때문에 답답해서 OO뻔한영화 개발암 ㅎ</td>\n      <td>1</td>\n      <td>2</td>\n      <td>1</td>\n      <td>2020-10-03 06:51:00</td>\n      <td>0</td>\n    </tr>\n    <tr>\n      <th>14</th>\n      <td>시우(assi****)</td>\n      <td>보는 내내 미르 찢어죽이고 싶은 생각만 듬 절대보지마라 하루종일 미르 미르 미르 미...</td>\n      <td>1</td>\n      <td>2</td>\n      <td>4</td>\n      <td>2020-10-02 15:57:00</td>\n      <td>0</td>\n    </tr>\n    <tr>\n      <th>15</th>\n      <td>0000(anne****)</td>\n      <td></td>\n      <td>10</td>\n      <td>1</td>\n      <td>0</td>\n      <td>2020-10-01 09:50:00</td>\n      <td>0</td>\n    </tr>\n    <tr>\n      <th>16</th>\n      <td>유솔아(juke****)</td>\n      <td>성지순례 왔다갑니다 돈 마니 벌게 해주세요</td>\n      <td>10</td>\n      <td>1</td>\n      <td>1</td>\n      <td>2020-09-29 20:31:00</td>\n      <td>0</td>\n    </tr>\n    <tr>\n      <th>17</th>\n      <td>soph****</td>\n      <td>수애가 초반에 재수없데 나오넼ㅋㅋㅋㅋ 나같으면 안도와줌</td>\n      <td>6</td>\n      <td>0</td>\n      <td>2</td>\n      <td>2020-09-28 12:28:00</td>\n      <td>0</td>\n    </tr>\n    <tr>\n      <th>18</th>\n      <td>종빡이(wh47****)</td>\n      <td>재밌게봤는데 와그라녀;;</td>\n      <td>10</td>\n      <td>1</td>\n      <td>2</td>\n      <td>2020-09-27 21:26:00</td>\n      <td>0</td>\n    </tr>\n    <tr>\n      <th>19</th>\n      <td>이준민(juns****)</td>\n      <td>처음에는 길가다가 쓰러지고 난리도 아니었지만 나중에 막바지엔 그렇게 우글우글 모여있...</td>\n      <td>4</td>\n      <td>1</td>\n      <td>0</td>\n      <td>2020-09-26 21:32:00</td>\n      <td>0</td>\n    </tr>\n    <tr>\n      <th>20</th>\n      <td>lllllllllllllllllll(kimh****)</td>\n      <td>스토리는 무난하고 신파는 생각보다 별로 없고 핵심 요소는 나름 잘 살렸다.</td>\n      <td>7</td>\n      <td>1</td>\n      <td>3</td>\n      <td>2020-09-21 18:45:00</td>\n      <td>0</td>\n    </tr>\n    <tr>\n      <th>21</th>\n      <td>디케이(kjsd****)</td>\n      <td></td>\n      <td>1</td>\n      <td>1</td>\n      <td>2</td>\n      <td>2020-09-21 00:48:00</td>\n      <td>0</td>\n    </tr>\n    <tr>\n      <th>22</th>\n      <td>정선영(sun0****)</td>\n      <td>재평가 다시 해야 되는 영화  ....</td>\n      <td>10</td>\n      <td>7</td>\n      <td>3</td>\n      <td>2020-09-19 10:40:00</td>\n      <td>0</td>\n    </tr>\n    <tr>\n      <th>23</th>\n      <td>Bellerophon(toug****)</td>\n      <td>내가 평식이 진짜 싫어하는데 역대 두번째 평식이랑 마음이 맞는 영화네. 우리나라 억...</td>\n      <td>5</td>\n      <td>0</td>\n      <td>1</td>\n      <td>2020-09-18 04:22:00</td>\n      <td>0</td>\n    </tr>\n    <tr>\n      <th>24</th>\n      <td>키네리(kine****)</td>\n      <td>초반은 참 좋았는데 용두사미 짜증으로 치닫는 영화. 이렇게밖에 못만드나 어후.</td>\n      <td>4</td>\n      <td>0</td>\n      <td>1</td>\n      <td>2020-09-16 22:25:00</td>\n      <td>0</td>\n    </tr>\n    <tr>\n      <th>25</th>\n      <td>베를린천사의 시(jooj****)</td>\n      <td>아역 여자애가 다 망침연기 존나 못함아역 쓰는 영화 보면 애들이 다 연기톤이고 억지...</td>\n      <td>1</td>\n      <td>3</td>\n      <td>4</td>\n      <td>2020-09-16 22:03:00</td>\n      <td>0</td>\n    </tr>\n    <tr>\n      <th>26</th>\n      <td>루시퍼(pear****)</td>\n      <td>내용이 너무 극단적인 부분이 있고, 과장된 부분도 있어서 조금 거부감이 있습니다. ...</td>\n      <td>6</td>\n      <td>0</td>\n      <td>0</td>\n      <td>2020-09-16 18:43:00</td>\n      <td>0</td>\n    </tr>\n    <tr>\n      <th>27</th>\n      <td>이민주(dlal****)</td>\n      <td>엥 갑자기 평점 낮아진 거 봐</td>\n      <td>10</td>\n      <td>1</td>\n      <td>1</td>\n      <td>2020-09-15 19:53:00</td>\n      <td>0</td>\n    </tr>\n    <tr>\n      <th>28</th>\n      <td>h952****</td>\n      <td>진짜 재밌네.... 대박이다</td>\n      <td>10</td>\n      <td>1</td>\n      <td>1</td>\n      <td>2020-09-15 18:21:00</td>\n      <td>0</td>\n    </tr>\n    <tr>\n      <th>29</th>\n      <td>Enouta(qkrt****)</td>\n      <td>스포일러가 포함된 감상평입니다. 감상평 보기</td>\n      <td>1</td>\n      <td>1</td>\n      <td>1</td>\n      <td>2020-09-15 00:11:00</td>\n      <td>0</td>\n    </tr>\n    <tr>\n      <th>...</th>\n      <td>...</td>\n      <td>...</td>\n      <td>...</td>\n      <td>...</td>\n      <td>...</td>\n      <td>...</td>\n      <td>...</td>\n    </tr>\n    <tr>\n      <th>70</th>\n      <td>illii(wjdw****)</td>\n      <td>개발암인데 개꿀잼이다</td>\n      <td>8</td>\n      <td>3</td>\n      <td>0</td>\n      <td>2020-08-24 21:05:00</td>\n      <td>0</td>\n    </tr>\n    <tr>\n      <th>71</th>\n      <td>감자(jung****)</td>\n      <td>\"코로나 19\"로 인해 재평가 되는 영화.</td>\n      <td>7</td>\n      <td>6</td>\n      <td>0</td>\n      <td>2020-08-23 15:28:00</td>\n      <td>0</td>\n    </tr>\n    <tr>\n      <th>72</th>\n      <td>장우창(jwc6****)</td>\n      <td></td>\n      <td>6</td>\n      <td>0</td>\n      <td>0</td>\n      <td>2020-08-23 11:15:00</td>\n      <td>0</td>\n    </tr>\n    <tr>\n      <th>73</th>\n      <td>vnst****</td>\n      <td></td>\n      <td>10</td>\n      <td>0</td>\n      <td>1</td>\n      <td>2020-08-23 01:07:00</td>\n      <td>0</td>\n    </tr>\n    <tr>\n      <th>74</th>\n      <td>codi****</td>\n      <td>코로나 바이러스로 인한 판데믹 상황에서 꼭 다시 봐야할 영화라고 생각합니다. 영화의...</td>\n      <td>2</td>\n      <td>2</td>\n      <td>2</td>\n      <td>2020-08-22 17:42:00</td>\n      <td>0</td>\n    </tr>\n    <tr>\n      <th>75</th>\n      <td>Raon(eer3****)</td>\n      <td>영화가 너무 말이 안 되게 만들어놨다... 확진자 피 뽑아서 몇분만에 백신, 치료제...</td>\n      <td>1</td>\n      <td>9</td>\n      <td>8</td>\n      <td>2020-08-22 17:10:00</td>\n      <td>0</td>\n    </tr>\n    <tr>\n      <th>76</th>\n      <td>루팡(jhjj****)</td>\n      <td>설정은 좋으나 과잉진압과 현실성 낮은 구성이 아쉬움</td>\n      <td>6</td>\n      <td>3</td>\n      <td>2</td>\n      <td>2020-08-22 16:47:00</td>\n      <td>0</td>\n    </tr>\n    <tr>\n      <th>77</th>\n      <td>tjdg****</td>\n      <td>스포일러가 포함된 감상평입니다. 감상평 보기</td>\n      <td>4</td>\n      <td>1</td>\n      <td>0</td>\n      <td>2020-08-22 07:17:00</td>\n      <td>0</td>\n    </tr>\n    <tr>\n      <th>78</th>\n      <td>007(shwo****)</td>\n      <td>아동센터 2년 버텼지만 이 영화2시간은 버티지 못했다...</td>\n      <td>1</td>\n      <td>5</td>\n      <td>0</td>\n      <td>2020-08-22 01:53:00</td>\n      <td>0</td>\n    </tr>\n    <tr>\n      <th>79</th>\n      <td>woo(woo_****)</td>\n      <td>8월21일 ocn으로 봤음현재 코로나19 예견한듯 도입부 스토리는좋았으나, 영화 중...</td>\n      <td>2</td>\n      <td>2</td>\n      <td>0</td>\n      <td>2020-08-21 23:19:00</td>\n      <td>0</td>\n    </tr>\n    <tr>\n      <th>80</th>\n      <td>그라비티(poo1****)</td>\n      <td>애색기 목졸라 죽이고 싶었음</td>\n      <td>1</td>\n      <td>4</td>\n      <td>5</td>\n      <td>2020-08-21 23:10:00</td>\n      <td>0</td>\n    </tr>\n    <tr>\n      <th>81</th>\n      <td>Kyung(moon****)</td>\n      <td>연기나 스토리 진행 다 괜찮았다. 근데 인간적으로 스토리 짤 때 정부 역할에 대해서...</td>\n      <td>2</td>\n      <td>2</td>\n      <td>0</td>\n      <td>2020-08-21 22:56:00</td>\n      <td>0</td>\n    </tr>\n    <tr>\n      <th>82</th>\n      <td>정권(jkj5****)</td>\n      <td>말도 안되는  내용 투성이라  몰입이 좀 떨어짐</td>\n      <td>4</td>\n      <td>2</td>\n      <td>1</td>\n      <td>2020-08-21 22:54:00</td>\n      <td>0</td>\n    </tr>\n    <tr>\n      <th>83</th>\n      <td>외계인(et07****)</td>\n      <td>말도 안되는 개빡치는 영화</td>\n      <td>1</td>\n      <td>2</td>\n      <td>1</td>\n      <td>2020-08-21 22:51:00</td>\n      <td>0</td>\n    </tr>\n    <tr>\n      <th>84</th>\n      <td>hero(jwsh****)</td>\n      <td>그냥 재미없는 반미영화</td>\n      <td>1</td>\n      <td>4</td>\n      <td>2</td>\n      <td>2020-08-21 22:50:00</td>\n      <td>0</td>\n    </tr>\n    <tr>\n      <th>85</th>\n      <td>Blessing(haha****)</td>\n      <td>하 진짜ㅋㅋㅋㅋ 코믹영화인줄~ 계속 헛웃음 나올 정도로 개연성 떨어짐. 어떻게 하면...</td>\n      <td>1</td>\n      <td>3</td>\n      <td>2</td>\n      <td>2020-08-21 22:47:00</td>\n      <td>0</td>\n    </tr>\n    <tr>\n      <th>86</th>\n      <td>phjphj0125(zioz****)</td>\n      <td>스포일러가 포함된 감상평입니다. 감상평 보기</td>\n      <td>2</td>\n      <td>4</td>\n      <td>0</td>\n      <td>2020-08-21 22:36:00</td>\n      <td>0</td>\n    </tr>\n    <tr>\n      <th>87</th>\n      <td>서방마누라(aria****)</td>\n      <td>스포일러가 포함된 감상평입니다. 감상평 보기</td>\n      <td>8</td>\n      <td>3</td>\n      <td>0</td>\n      <td>2020-08-21 22:23:00</td>\n      <td>0</td>\n    </tr>\n    <tr>\n      <th>88</th>\n      <td>민윤(ysl6****)</td>\n      <td></td>\n      <td>10</td>\n      <td>0</td>\n      <td>2</td>\n      <td>2020-08-21 22:10:00</td>\n      <td>0</td>\n    </tr>\n    <tr>\n      <th>89</th>\n      <td>anai****</td>\n      <td>여주인공이 징징대는 컨셉만 아니었다면 망하지 않았을듯.. 안타깝다 ㅠ 애기 연기랑 ...</td>\n      <td>10</td>\n      <td>4</td>\n      <td>1</td>\n      <td>2020-08-21 22:02:00</td>\n      <td>0</td>\n    </tr>\n    <tr>\n      <th>90</th>\n      <td>빛희재(ty31****)</td>\n      <td>지금 코로나와 상황이랑 똑같은거 같은데 이 영화보고서 우리 다 같이 코로나 이깁시다.</td>\n      <td>10</td>\n      <td>4</td>\n      <td>1</td>\n      <td>2020-08-21 22:01:00</td>\n      <td>0</td>\n    </tr>\n    <tr>\n      <th>91</th>\n      <td>huck(huck****)</td>\n      <td>코로나때문에 재평가 받을뿐...연기 연출 설정 모두 최악이었다!</td>\n      <td>1</td>\n      <td>5</td>\n      <td>0</td>\n      <td>2020-08-21 21:32:00</td>\n      <td>0</td>\n    </tr>\n    <tr>\n      <th>92</th>\n      <td>라루나(secr****)</td>\n      <td>감기는 코로나를 미리 예견한 영화였다 덜덜ㅜ</td>\n      <td>10</td>\n      <td>4</td>\n      <td>1</td>\n      <td>2020-08-21 21:22:00</td>\n      <td>0</td>\n    </tr>\n    <tr>\n      <th>93</th>\n      <td>구구(02sh****)</td>\n      <td>스포일러가 포함된 감상평입니다. 감상평 보기</td>\n      <td>7</td>\n      <td>5</td>\n      <td>0</td>\n      <td>2020-08-21 21:19:00</td>\n      <td>0</td>\n    </tr>\n    <tr>\n      <th>94</th>\n      <td>김정은(junk****)</td>\n      <td>야 백수들아 이정도면 볼만한 영화지 뭐 그리 따지는게 많아 영화만들 돈도 없는주제에...</td>\n      <td>8</td>\n      <td>6</td>\n      <td>4</td>\n      <td>2020-08-20 19:30:00</td>\n      <td>0</td>\n    </tr>\n    <tr>\n      <th>95</th>\n      <td>버터플라이(wjsw****)</td>\n      <td>연출 부분에서 백점, 천점, 만점 드립니다 이 시국에서 이 영화는 재조명되야 될 영...</td>\n      <td>10</td>\n      <td>5</td>\n      <td>4</td>\n      <td>2020-08-20 15:57:00</td>\n      <td>0</td>\n    </tr>\n    <tr>\n      <th>96</th>\n      <td>brainer(brai****)</td>\n      <td>말도 안 되는 설정, 말도 안 되는 CG, 말도 안 되는 전개, 말도 안 되는 스토...</td>\n      <td>2</td>\n      <td>5</td>\n      <td>5</td>\n      <td>2020-08-20 01:10:00</td>\n      <td>0</td>\n    </tr>\n    <tr>\n      <th>97</th>\n      <td>렛잇프리(hero****)</td>\n      <td>코비드19 예상을 한겁니까? 굿!! 영화 내용은 아이가 징징딩 하는것밖에 기억안나네...</td>\n      <td>4</td>\n      <td>3</td>\n      <td>1</td>\n      <td>2020-08-19 21:01:00</td>\n      <td>0</td>\n    </tr>\n    <tr>\n      <th>98</th>\n      <td>gkqz****</td>\n      <td>지금 코로나 사태 재평가 과 시급한 영화 20년도 되서 지금 보니 더 와 닿는다</td>\n      <td>10</td>\n      <td>1</td>\n      <td>2</td>\n      <td>2020-08-19 05:23:00</td>\n      <td>0</td>\n    </tr>\n    <tr>\n      <th>99</th>\n      <td>호오대(haom****)</td>\n      <td>그래도 중간까지는 몰입해서 잘봤는데 뒤로 갈수록 이야기가 좀 억지스럽네요 전시작전권...</td>\n      <td>2</td>\n      <td>2</td>\n      <td>2</td>\n      <td>2020-08-18 08:25:00</td>\n      <td>0</td>\n    </tr>\n  </tbody>\n</table>\n<p>100 rows × 7 columns</p>\n</div>"
     },
     "metadata": {},
     "execution_count": 25
    }
   ],
   "source": [
    "moviere.columns = [\"nickname\",\"text\",\"score\",\"like\",\"dislike\",\"time\",\"watch_movie\"]\n",
    "moviere"
   ]
  },
  {
   "cell_type": "code",
   "execution_count": 1,
   "metadata": {},
   "outputs": [
    {
     "output_type": "error",
     "ename": "NameError",
     "evalue": "name 'moviere' is not defined",
     "traceback": [
      "\u001b[0;31m---------------------------------------------------------------------------\u001b[0m",
      "\u001b[0;31mNameError\u001b[0m                                 Traceback (most recent call last)",
      "\u001b[0;32m<ipython-input-1-fff4e4b9da97>\u001b[0m in \u001b[0;36m<module>\u001b[0;34m\u001b[0m\n\u001b[0;32m----> 1\u001b[0;31m \u001b[0mmoviere\u001b[0m\u001b[0;34m.\u001b[0m\u001b[0mto_csv\u001b[0m\u001b[0;34m(\u001b[0m\u001b[0;34m'moviere_flu2.csv'\u001b[0m\u001b[0;34m,\u001b[0m \u001b[0mheader\u001b[0m\u001b[0;34m=\u001b[0m\u001b[0;34m'true'\u001b[0m\u001b[0;34m,\u001b[0m \u001b[0mencoding\u001b[0m\u001b[0;34m=\u001b[0m\u001b[0;34m'utf-8'\u001b[0m\u001b[0;34m)\u001b[0m\u001b[0;34m\u001b[0m\u001b[0m\n\u001b[0m",
      "\u001b[0;31mNameError\u001b[0m: name 'moviere' is not defined"
     ]
    }
   ],
   "source": [
    "moviere.to_csv('moviere_flu2.csv', header='true', encoding='utf-8')"
   ]
  },
  {
   "cell_type": "code",
   "execution_count": null,
   "metadata": {},
   "outputs": [],
   "source": []
  }
 ]
}